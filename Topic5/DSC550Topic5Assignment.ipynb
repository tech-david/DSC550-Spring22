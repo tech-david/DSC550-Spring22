{
  "nbformat": 4,
  "nbformat_minor": 0,
  "metadata": {
    "colab": {
      "name": "DSC550Topic5Assignment.ipynb",
      "provenance": [],
      "collapsed_sections": [],
      "authorship_tag": "ABX9TyP07VuXVP7hLtGOu4tHLgYy",
      "include_colab_link": true
    },
    "kernelspec": {
      "name": "python3",
      "display_name": "Python 3"
    },
    "language_info": {
      "name": "python"
    }
  },
  "cells": [
    {
      "cell_type": "markdown",
      "metadata": {
        "id": "view-in-github",
        "colab_type": "text"
      },
      "source": [
        "<a href=\"https://colab.research.google.com/github/tech-david/DSC550-Spring22/blob/main/Topic5/DSC550Topic5Assignment.ipynb\" target=\"_parent\"><img src=\"https://colab.research.google.com/assets/colab-badge.svg\" alt=\"Open In Colab\"/></a>"
      ]
    },
    {
      "cell_type": "code",
      "execution_count": 1,
      "metadata": {
        "id": "khdH8sEjBOUQ"
      },
      "outputs": [],
      "source": [
        "import pandas as pd\n",
        "import numpy as np\n",
        "import matplotlib.pyplot as plt\n",
        "%matplotlib inline"
      ]
    },
    {
      "cell_type": "code",
      "source": [
        "# Load data\n",
        "prototypes = {\n",
        "    \"Banana\": [-1, -1, 1],\n",
        "    \"Pineapple\": [-1, 1, -1]\n",
        "}"
      ],
      "metadata": {
        "id": "HywJUiaBCMGR"
      },
      "execution_count": 2,
      "outputs": []
    },
    {
      "cell_type": "code",
      "source": [
        "# Training parameters\n",
        "n_train = 2\n",
        "# Number of test sets\n",
        "n_test = 100\n",
        "# Set distortion for randomness\n",
        "distort = 0.1\n",
        "# Number of neurons\n",
        "n_neurons = 3"
      ],
      "metadata": {
        "id": "gcGCuI1PztsC"
      },
      "execution_count": 3,
      "outputs": []
    },
    {
      "cell_type": "code",
      "source": [
        "train_data = [np.array(x) for x in prototypes.values()][:n_train]"
      ],
      "metadata": {
        "id": "P4mSzLkuzwrt"
      },
      "execution_count": 4,
      "outputs": []
    },
    {
      "cell_type": "code",
      "source": [
        "print(train_data)"
      ],
      "metadata": {
        "colab": {
          "base_uri": "https://localhost:8080/"
        },
        "id": "jqPiOeyS4l9c",
        "outputId": "9f3ea631-aee8-4529-cbe5-9ac55ac6ef39"
      },
      "execution_count": 5,
      "outputs": [
        {
          "output_type": "stream",
          "name": "stdout",
          "text": [
            "[array([-1, -1,  1]), array([-1,  1, -1])]\n"
          ]
        }
      ]
    },
    {
      "cell_type": "code",
      "source": [
        "# Creating random test set\n",
        "test_data = []\n",
        "for x in range(n_test):\n",
        "    r = np.random.randint(0, n_train)\n",
        "    test_instances = np.array(train_data[r])\n",
        "    noise = 1 * (np.random.random(test_instances.shape) > distort)\n",
        "    np.place(noise, noise == 0, -1)\n",
        "    noisy_instances = np.multiply(test_instances, noise)\n",
        "    test_data.append((test_instances, noisy_instances))"
      ],
      "metadata": {
        "id": "hZLOe9Jtzy37"
      },
      "execution_count": 6,
      "outputs": []
    },
    {
      "cell_type": "code",
      "source": [
        "print(test_data)"
      ],
      "metadata": {
        "colab": {
          "base_uri": "https://localhost:8080/"
        },
        "id": "QnTE0Pk34BUp",
        "outputId": "0b3d3b85-76c8-4a0e-a05f-e9b5e3cb82c5"
      },
      "execution_count": 7,
      "outputs": [
        {
          "output_type": "stream",
          "name": "stdout",
          "text": [
            "[(array([-1, -1,  1]), array([-1, -1,  1])), (array([-1,  1, -1]), array([-1,  1, -1])), (array([-1,  1, -1]), array([-1,  1, -1])), (array([-1, -1,  1]), array([-1, -1,  1])), (array([-1,  1, -1]), array([-1,  1, -1])), (array([-1, -1,  1]), array([-1, -1,  1])), (array([-1,  1, -1]), array([-1,  1, -1])), (array([-1,  1, -1]), array([-1,  1, -1])), (array([-1, -1,  1]), array([-1, -1,  1])), (array([-1,  1, -1]), array([-1,  1, -1])), (array([-1,  1, -1]), array([-1,  1, -1])), (array([-1,  1, -1]), array([-1,  1, -1])), (array([-1, -1,  1]), array([-1, -1,  1])), (array([-1, -1,  1]), array([-1, -1,  1])), (array([-1, -1,  1]), array([-1, -1,  1])), (array([-1, -1,  1]), array([-1, -1,  1])), (array([-1, -1,  1]), array([-1, -1,  1])), (array([-1,  1, -1]), array([-1,  1,  1])), (array([-1, -1,  1]), array([-1, -1,  1])), (array([-1,  1, -1]), array([-1,  1, -1])), (array([-1, -1,  1]), array([-1, -1,  1])), (array([-1,  1, -1]), array([-1,  1, -1])), (array([-1,  1, -1]), array([-1,  1, -1])), (array([-1, -1,  1]), array([-1, -1,  1])), (array([-1,  1, -1]), array([-1,  1, -1])), (array([-1, -1,  1]), array([-1, -1,  1])), (array([-1, -1,  1]), array([-1,  1,  1])), (array([-1,  1, -1]), array([-1,  1, -1])), (array([-1,  1, -1]), array([-1,  1, -1])), (array([-1, -1,  1]), array([ 1, -1,  1])), (array([-1, -1,  1]), array([-1, -1,  1])), (array([-1,  1, -1]), array([-1,  1, -1])), (array([-1, -1,  1]), array([-1,  1,  1])), (array([-1, -1,  1]), array([-1, -1, -1])), (array([-1, -1,  1]), array([-1, -1,  1])), (array([-1,  1, -1]), array([-1,  1, -1])), (array([-1, -1,  1]), array([-1, -1,  1])), (array([-1, -1,  1]), array([ 1, -1,  1])), (array([-1, -1,  1]), array([-1, -1,  1])), (array([-1, -1,  1]), array([-1, -1,  1])), (array([-1, -1,  1]), array([-1, -1, -1])), (array([-1,  1, -1]), array([-1,  1, -1])), (array([-1,  1, -1]), array([-1,  1, -1])), (array([-1, -1,  1]), array([-1, -1,  1])), (array([-1, -1,  1]), array([-1, -1,  1])), (array([-1,  1, -1]), array([-1,  1,  1])), (array([-1,  1, -1]), array([-1,  1, -1])), (array([-1,  1, -1]), array([-1,  1,  1])), (array([-1, -1,  1]), array([-1, -1,  1])), (array([-1,  1, -1]), array([-1,  1, -1])), (array([-1,  1, -1]), array([-1,  1, -1])), (array([-1, -1,  1]), array([-1, -1,  1])), (array([-1,  1, -1]), array([-1,  1, -1])), (array([-1, -1,  1]), array([-1, -1,  1])), (array([-1, -1,  1]), array([-1, -1,  1])), (array([-1, -1,  1]), array([ 1, -1,  1])), (array([-1, -1,  1]), array([-1, -1,  1])), (array([-1,  1, -1]), array([-1,  1, -1])), (array([-1, -1,  1]), array([-1, -1,  1])), (array([-1, -1,  1]), array([-1, -1,  1])), (array([-1, -1,  1]), array([-1,  1,  1])), (array([-1, -1,  1]), array([-1, -1,  1])), (array([-1, -1,  1]), array([-1, -1,  1])), (array([-1, -1,  1]), array([-1, -1,  1])), (array([-1,  1, -1]), array([-1,  1, -1])), (array([-1, -1,  1]), array([-1, -1,  1])), (array([-1, -1,  1]), array([-1, -1,  1])), (array([-1, -1,  1]), array([-1, -1,  1])), (array([-1, -1,  1]), array([-1, -1,  1])), (array([-1,  1, -1]), array([-1,  1, -1])), (array([-1, -1,  1]), array([-1,  1,  1])), (array([-1,  1, -1]), array([-1,  1, -1])), (array([-1, -1,  1]), array([ 1, -1,  1])), (array([-1,  1, -1]), array([-1,  1, -1])), (array([-1, -1,  1]), array([-1, -1,  1])), (array([-1,  1, -1]), array([-1, -1, -1])), (array([-1,  1, -1]), array([ 1,  1, -1])), (array([-1, -1,  1]), array([-1, -1,  1])), (array([-1, -1,  1]), array([-1, -1,  1])), (array([-1, -1,  1]), array([-1, -1,  1])), (array([-1, -1,  1]), array([ 1, -1,  1])), (array([-1,  1, -1]), array([-1,  1, -1])), (array([-1,  1, -1]), array([-1,  1, -1])), (array([-1,  1, -1]), array([-1,  1, -1])), (array([-1,  1, -1]), array([-1,  1, -1])), (array([-1,  1, -1]), array([-1,  1, -1])), (array([-1, -1,  1]), array([-1, -1,  1])), (array([-1,  1, -1]), array([-1,  1, -1])), (array([-1, -1,  1]), array([-1, -1, -1])), (array([-1, -1,  1]), array([-1, -1,  1])), (array([-1,  1, -1]), array([-1,  1, -1])), (array([-1,  1, -1]), array([-1,  1, -1])), (array([-1,  1, -1]), array([-1, -1,  1])), (array([-1, -1,  1]), array([-1,  1,  1])), (array([-1,  1, -1]), array([-1,  1, -1])), (array([-1,  1, -1]), array([-1,  1, -1])), (array([-1,  1, -1]), array([-1,  1, -1])), (array([-1, -1,  1]), array([-1, -1,  1])), (array([-1,  1, -1]), array([-1,  1, -1])), (array([-1, -1,  1]), array([-1, -1,  1]))]\n"
          ]
        }
      ]
    },
    {
      "cell_type": "code",
      "source": [
        "def train(neuron, training_data):\n",
        "    w = np.zeros([neuron, neuron])\n",
        "    for data in training_data:\n",
        "        w += np.outer(data, data)\n",
        "    for weight_value in range(neuron):\n",
        "        w[weight_value][weight_value] = 0\n",
        "    print(w)\n",
        "    return w"
      ],
      "metadata": {
        "id": "qohzsQo4z0NR"
      },
      "execution_count": 8,
      "outputs": []
    },
    {
      "cell_type": "code",
      "source": [
        "def test(weights, testing_data):\n",
        "    success = 0.0\n",
        "\n",
        "    output = []\n",
        "\n",
        "    for data in testing_data:\n",
        "        true = data[0]\n",
        "        noisy = data[1]\n",
        "        predicted = get_pattern(weights, noisy)\n",
        "        if np.array_equal(true, predicted):\n",
        "            success += 1.0\n",
        "        output.append([true, noisy, predicted])\n",
        "\n",
        "    print(output)\n",
        "\n",
        "    return (success / len(testing_data)), output"
      ],
      "metadata": {
        "id": "mKKDR1v9z11s"
      },
      "execution_count": 9,
      "outputs": []
    },
    {
      "cell_type": "code",
      "source": [
        "def get_pattern(weights, data, steps=10):\n",
        "    result = np.array(data)\n",
        "\n",
        "    for _ in range(steps):\n",
        "        for i in range(len(result)):\n",
        "            j = np.dot(weights[i], result)\n",
        "            # Creating hardlim\n",
        "            if j > 0:\n",
        "                result[i] = 1\n",
        "            else:\n",
        "                result[i] = -1\n",
        "\n",
        "    print(result)\n",
        "    return result"
      ],
      "metadata": {
        "id": "Q6plC5M3z3rt"
      },
      "execution_count": 10,
      "outputs": []
    },
    {
      "cell_type": "code",
      "source": [
        "# Train\n",
        "W = train(n_neurons, train_data)"
      ],
      "metadata": {
        "colab": {
          "base_uri": "https://localhost:8080/"
        },
        "id": "59XU4oNRz5Gd",
        "outputId": "1632c1d9-cb9e-4c3c-838f-6f20c767083b"
      },
      "execution_count": 11,
      "outputs": [
        {
          "output_type": "stream",
          "name": "stdout",
          "text": [
            "[[ 0.  0.  0.]\n",
            " [ 0.  0. -2.]\n",
            " [ 0. -2.  0.]]\n"
          ]
        }
      ]
    },
    {
      "cell_type": "code",
      "source": [
        "print(W)"
      ],
      "metadata": {
        "colab": {
          "base_uri": "https://localhost:8080/"
        },
        "id": "wNYk3UNN45b_",
        "outputId": "81f66a0d-8a7d-4389-813a-27c7fc26f64a"
      },
      "execution_count": 12,
      "outputs": [
        {
          "output_type": "stream",
          "name": "stdout",
          "text": [
            "[[ 0.  0.  0.]\n",
            " [ 0.  0. -2.]\n",
            " [ 0. -2.  0.]]\n"
          ]
        }
      ]
    },
    {
      "cell_type": "code",
      "source": [
        "# Test\n",
        "accuracy, output = test(W, test_data)"
      ],
      "metadata": {
        "colab": {
          "base_uri": "https://localhost:8080/"
        },
        "id": "IvY635JKz6PL",
        "outputId": "1ad9a5ae-63cc-45a5-d612-d1768c50a959"
      },
      "execution_count": 13,
      "outputs": [
        {
          "output_type": "stream",
          "name": "stdout",
          "text": [
            "[-1 -1  1]\n",
            "[-1  1 -1]\n",
            "[-1  1 -1]\n",
            "[-1 -1  1]\n",
            "[-1  1 -1]\n",
            "[-1 -1  1]\n",
            "[-1  1 -1]\n",
            "[-1  1 -1]\n",
            "[-1 -1  1]\n",
            "[-1  1 -1]\n",
            "[-1  1 -1]\n",
            "[-1  1 -1]\n",
            "[-1 -1  1]\n",
            "[-1 -1  1]\n",
            "[-1 -1  1]\n",
            "[-1 -1  1]\n",
            "[-1 -1  1]\n",
            "[-1 -1  1]\n",
            "[-1 -1  1]\n",
            "[-1  1 -1]\n",
            "[-1 -1  1]\n",
            "[-1  1 -1]\n",
            "[-1  1 -1]\n",
            "[-1 -1  1]\n",
            "[-1  1 -1]\n",
            "[-1 -1  1]\n",
            "[-1 -1  1]\n",
            "[-1  1 -1]\n",
            "[-1  1 -1]\n",
            "[-1 -1  1]\n",
            "[-1 -1  1]\n",
            "[-1  1 -1]\n",
            "[-1 -1  1]\n",
            "[-1  1 -1]\n",
            "[-1 -1  1]\n",
            "[-1  1 -1]\n",
            "[-1 -1  1]\n",
            "[-1 -1  1]\n",
            "[-1 -1  1]\n",
            "[-1 -1  1]\n",
            "[-1  1 -1]\n",
            "[-1  1 -1]\n",
            "[-1  1 -1]\n",
            "[-1 -1  1]\n",
            "[-1 -1  1]\n",
            "[-1 -1  1]\n",
            "[-1  1 -1]\n",
            "[-1 -1  1]\n",
            "[-1 -1  1]\n",
            "[-1  1 -1]\n",
            "[-1  1 -1]\n",
            "[-1 -1  1]\n",
            "[-1  1 -1]\n",
            "[-1 -1  1]\n",
            "[-1 -1  1]\n",
            "[-1 -1  1]\n",
            "[-1 -1  1]\n",
            "[-1  1 -1]\n",
            "[-1 -1  1]\n",
            "[-1 -1  1]\n",
            "[-1 -1  1]\n",
            "[-1 -1  1]\n",
            "[-1 -1  1]\n",
            "[-1 -1  1]\n",
            "[-1  1 -1]\n",
            "[-1 -1  1]\n",
            "[-1 -1  1]\n",
            "[-1 -1  1]\n",
            "[-1 -1  1]\n",
            "[-1  1 -1]\n",
            "[-1 -1  1]\n",
            "[-1  1 -1]\n",
            "[-1 -1  1]\n",
            "[-1  1 -1]\n",
            "[-1 -1  1]\n",
            "[-1  1 -1]\n",
            "[-1  1 -1]\n",
            "[-1 -1  1]\n",
            "[-1 -1  1]\n",
            "[-1 -1  1]\n",
            "[-1 -1  1]\n",
            "[-1  1 -1]\n",
            "[-1  1 -1]\n",
            "[-1  1 -1]\n",
            "[-1  1 -1]\n",
            "[-1  1 -1]\n",
            "[-1 -1  1]\n",
            "[-1  1 -1]\n",
            "[-1  1 -1]\n",
            "[-1 -1  1]\n",
            "[-1  1 -1]\n",
            "[-1  1 -1]\n",
            "[-1 -1  1]\n",
            "[-1 -1  1]\n",
            "[-1  1 -1]\n",
            "[-1  1 -1]\n",
            "[-1  1 -1]\n",
            "[-1 -1  1]\n",
            "[-1  1 -1]\n",
            "[-1 -1  1]\n",
            "[[array([-1, -1,  1]), array([-1, -1,  1]), array([-1, -1,  1])], [array([-1,  1, -1]), array([-1,  1, -1]), array([-1,  1, -1])], [array([-1,  1, -1]), array([-1,  1, -1]), array([-1,  1, -1])], [array([-1, -1,  1]), array([-1, -1,  1]), array([-1, -1,  1])], [array([-1,  1, -1]), array([-1,  1, -1]), array([-1,  1, -1])], [array([-1, -1,  1]), array([-1, -1,  1]), array([-1, -1,  1])], [array([-1,  1, -1]), array([-1,  1, -1]), array([-1,  1, -1])], [array([-1,  1, -1]), array([-1,  1, -1]), array([-1,  1, -1])], [array([-1, -1,  1]), array([-1, -1,  1]), array([-1, -1,  1])], [array([-1,  1, -1]), array([-1,  1, -1]), array([-1,  1, -1])], [array([-1,  1, -1]), array([-1,  1, -1]), array([-1,  1, -1])], [array([-1,  1, -1]), array([-1,  1, -1]), array([-1,  1, -1])], [array([-1, -1,  1]), array([-1, -1,  1]), array([-1, -1,  1])], [array([-1, -1,  1]), array([-1, -1,  1]), array([-1, -1,  1])], [array([-1, -1,  1]), array([-1, -1,  1]), array([-1, -1,  1])], [array([-1, -1,  1]), array([-1, -1,  1]), array([-1, -1,  1])], [array([-1, -1,  1]), array([-1, -1,  1]), array([-1, -1,  1])], [array([-1,  1, -1]), array([-1,  1,  1]), array([-1, -1,  1])], [array([-1, -1,  1]), array([-1, -1,  1]), array([-1, -1,  1])], [array([-1,  1, -1]), array([-1,  1, -1]), array([-1,  1, -1])], [array([-1, -1,  1]), array([-1, -1,  1]), array([-1, -1,  1])], [array([-1,  1, -1]), array([-1,  1, -1]), array([-1,  1, -1])], [array([-1,  1, -1]), array([-1,  1, -1]), array([-1,  1, -1])], [array([-1, -1,  1]), array([-1, -1,  1]), array([-1, -1,  1])], [array([-1,  1, -1]), array([-1,  1, -1]), array([-1,  1, -1])], [array([-1, -1,  1]), array([-1, -1,  1]), array([-1, -1,  1])], [array([-1, -1,  1]), array([-1,  1,  1]), array([-1, -1,  1])], [array([-1,  1, -1]), array([-1,  1, -1]), array([-1,  1, -1])], [array([-1,  1, -1]), array([-1,  1, -1]), array([-1,  1, -1])], [array([-1, -1,  1]), array([ 1, -1,  1]), array([-1, -1,  1])], [array([-1, -1,  1]), array([-1, -1,  1]), array([-1, -1,  1])], [array([-1,  1, -1]), array([-1,  1, -1]), array([-1,  1, -1])], [array([-1, -1,  1]), array([-1,  1,  1]), array([-1, -1,  1])], [array([-1, -1,  1]), array([-1, -1, -1]), array([-1,  1, -1])], [array([-1, -1,  1]), array([-1, -1,  1]), array([-1, -1,  1])], [array([-1,  1, -1]), array([-1,  1, -1]), array([-1,  1, -1])], [array([-1, -1,  1]), array([-1, -1,  1]), array([-1, -1,  1])], [array([-1, -1,  1]), array([ 1, -1,  1]), array([-1, -1,  1])], [array([-1, -1,  1]), array([-1, -1,  1]), array([-1, -1,  1])], [array([-1, -1,  1]), array([-1, -1,  1]), array([-1, -1,  1])], [array([-1, -1,  1]), array([-1, -1, -1]), array([-1,  1, -1])], [array([-1,  1, -1]), array([-1,  1, -1]), array([-1,  1, -1])], [array([-1,  1, -1]), array([-1,  1, -1]), array([-1,  1, -1])], [array([-1, -1,  1]), array([-1, -1,  1]), array([-1, -1,  1])], [array([-1, -1,  1]), array([-1, -1,  1]), array([-1, -1,  1])], [array([-1,  1, -1]), array([-1,  1,  1]), array([-1, -1,  1])], [array([-1,  1, -1]), array([-1,  1, -1]), array([-1,  1, -1])], [array([-1,  1, -1]), array([-1,  1,  1]), array([-1, -1,  1])], [array([-1, -1,  1]), array([-1, -1,  1]), array([-1, -1,  1])], [array([-1,  1, -1]), array([-1,  1, -1]), array([-1,  1, -1])], [array([-1,  1, -1]), array([-1,  1, -1]), array([-1,  1, -1])], [array([-1, -1,  1]), array([-1, -1,  1]), array([-1, -1,  1])], [array([-1,  1, -1]), array([-1,  1, -1]), array([-1,  1, -1])], [array([-1, -1,  1]), array([-1, -1,  1]), array([-1, -1,  1])], [array([-1, -1,  1]), array([-1, -1,  1]), array([-1, -1,  1])], [array([-1, -1,  1]), array([ 1, -1,  1]), array([-1, -1,  1])], [array([-1, -1,  1]), array([-1, -1,  1]), array([-1, -1,  1])], [array([-1,  1, -1]), array([-1,  1, -1]), array([-1,  1, -1])], [array([-1, -1,  1]), array([-1, -1,  1]), array([-1, -1,  1])], [array([-1, -1,  1]), array([-1, -1,  1]), array([-1, -1,  1])], [array([-1, -1,  1]), array([-1,  1,  1]), array([-1, -1,  1])], [array([-1, -1,  1]), array([-1, -1,  1]), array([-1, -1,  1])], [array([-1, -1,  1]), array([-1, -1,  1]), array([-1, -1,  1])], [array([-1, -1,  1]), array([-1, -1,  1]), array([-1, -1,  1])], [array([-1,  1, -1]), array([-1,  1, -1]), array([-1,  1, -1])], [array([-1, -1,  1]), array([-1, -1,  1]), array([-1, -1,  1])], [array([-1, -1,  1]), array([-1, -1,  1]), array([-1, -1,  1])], [array([-1, -1,  1]), array([-1, -1,  1]), array([-1, -1,  1])], [array([-1, -1,  1]), array([-1, -1,  1]), array([-1, -1,  1])], [array([-1,  1, -1]), array([-1,  1, -1]), array([-1,  1, -1])], [array([-1, -1,  1]), array([-1,  1,  1]), array([-1, -1,  1])], [array([-1,  1, -1]), array([-1,  1, -1]), array([-1,  1, -1])], [array([-1, -1,  1]), array([ 1, -1,  1]), array([-1, -1,  1])], [array([-1,  1, -1]), array([-1,  1, -1]), array([-1,  1, -1])], [array([-1, -1,  1]), array([-1, -1,  1]), array([-1, -1,  1])], [array([-1,  1, -1]), array([-1, -1, -1]), array([-1,  1, -1])], [array([-1,  1, -1]), array([ 1,  1, -1]), array([-1,  1, -1])], [array([-1, -1,  1]), array([-1, -1,  1]), array([-1, -1,  1])], [array([-1, -1,  1]), array([-1, -1,  1]), array([-1, -1,  1])], [array([-1, -1,  1]), array([-1, -1,  1]), array([-1, -1,  1])], [array([-1, -1,  1]), array([ 1, -1,  1]), array([-1, -1,  1])], [array([-1,  1, -1]), array([-1,  1, -1]), array([-1,  1, -1])], [array([-1,  1, -1]), array([-1,  1, -1]), array([-1,  1, -1])], [array([-1,  1, -1]), array([-1,  1, -1]), array([-1,  1, -1])], [array([-1,  1, -1]), array([-1,  1, -1]), array([-1,  1, -1])], [array([-1,  1, -1]), array([-1,  1, -1]), array([-1,  1, -1])], [array([-1, -1,  1]), array([-1, -1,  1]), array([-1, -1,  1])], [array([-1,  1, -1]), array([-1,  1, -1]), array([-1,  1, -1])], [array([-1, -1,  1]), array([-1, -1, -1]), array([-1,  1, -1])], [array([-1, -1,  1]), array([-1, -1,  1]), array([-1, -1,  1])], [array([-1,  1, -1]), array([-1,  1, -1]), array([-1,  1, -1])], [array([-1,  1, -1]), array([-1,  1, -1]), array([-1,  1, -1])], [array([-1,  1, -1]), array([-1, -1,  1]), array([-1, -1,  1])], [array([-1, -1,  1]), array([-1,  1,  1]), array([-1, -1,  1])], [array([-1,  1, -1]), array([-1,  1, -1]), array([-1,  1, -1])], [array([-1,  1, -1]), array([-1,  1, -1]), array([-1,  1, -1])], [array([-1,  1, -1]), array([-1,  1, -1]), array([-1,  1, -1])], [array([-1, -1,  1]), array([-1, -1,  1]), array([-1, -1,  1])], [array([-1,  1, -1]), array([-1,  1, -1]), array([-1,  1, -1])], [array([-1, -1,  1]), array([-1, -1,  1]), array([-1, -1,  1])]]\n"
          ]
        }
      ]
    },
    {
      "cell_type": "code",
      "source": [
        "print(\"Accuracy of the network is %.2f\" % (accuracy * 100))"
      ],
      "metadata": {
        "colab": {
          "base_uri": "https://localhost:8080/"
        },
        "id": "p2j3Je12z8Qa",
        "outputId": "208ff30c-10f0-46e0-9d0f-24ced1437d4f"
      },
      "execution_count": 14,
      "outputs": [
        {
          "output_type": "stream",
          "name": "stdout",
          "text": [
            "Accuracy of the network is 93.00\n"
          ]
        }
      ]
    },
    {
      "cell_type": "code",
      "source": [
        "# print output classifications of test data\n",
        "for i in range(len(output)):\n",
        "    for j in range(len(list(prototypes.keys()))):\n",
        "        if all(output[i][2] == list(prototypes.values())[j]):\n",
        "            print(i, list(prototypes.keys())[j])"
      ],
      "metadata": {
        "colab": {
          "base_uri": "https://localhost:8080/"
        },
        "id": "gm04niUpz-HM",
        "outputId": "27f1aeb8-1c1c-4f4f-f609-16f2bf1c75b1"
      },
      "execution_count": 15,
      "outputs": [
        {
          "output_type": "stream",
          "name": "stdout",
          "text": [
            "0 Banana\n",
            "1 Pineapple\n",
            "2 Pineapple\n",
            "3 Banana\n",
            "4 Pineapple\n",
            "5 Banana\n",
            "6 Pineapple\n",
            "7 Pineapple\n",
            "8 Banana\n",
            "9 Pineapple\n",
            "10 Pineapple\n",
            "11 Pineapple\n",
            "12 Banana\n",
            "13 Banana\n",
            "14 Banana\n",
            "15 Banana\n",
            "16 Banana\n",
            "17 Banana\n",
            "18 Banana\n",
            "19 Pineapple\n",
            "20 Banana\n",
            "21 Pineapple\n",
            "22 Pineapple\n",
            "23 Banana\n",
            "24 Pineapple\n",
            "25 Banana\n",
            "26 Banana\n",
            "27 Pineapple\n",
            "28 Pineapple\n",
            "29 Banana\n",
            "30 Banana\n",
            "31 Pineapple\n",
            "32 Banana\n",
            "33 Pineapple\n",
            "34 Banana\n",
            "35 Pineapple\n",
            "36 Banana\n",
            "37 Banana\n",
            "38 Banana\n",
            "39 Banana\n",
            "40 Pineapple\n",
            "41 Pineapple\n",
            "42 Pineapple\n",
            "43 Banana\n",
            "44 Banana\n",
            "45 Banana\n",
            "46 Pineapple\n",
            "47 Banana\n",
            "48 Banana\n",
            "49 Pineapple\n",
            "50 Pineapple\n",
            "51 Banana\n",
            "52 Pineapple\n",
            "53 Banana\n",
            "54 Banana\n",
            "55 Banana\n",
            "56 Banana\n",
            "57 Pineapple\n",
            "58 Banana\n",
            "59 Banana\n",
            "60 Banana\n",
            "61 Banana\n",
            "62 Banana\n",
            "63 Banana\n",
            "64 Pineapple\n",
            "65 Banana\n",
            "66 Banana\n",
            "67 Banana\n",
            "68 Banana\n",
            "69 Pineapple\n",
            "70 Banana\n",
            "71 Pineapple\n",
            "72 Banana\n",
            "73 Pineapple\n",
            "74 Banana\n",
            "75 Pineapple\n",
            "76 Pineapple\n",
            "77 Banana\n",
            "78 Banana\n",
            "79 Banana\n",
            "80 Banana\n",
            "81 Pineapple\n",
            "82 Pineapple\n",
            "83 Pineapple\n",
            "84 Pineapple\n",
            "85 Pineapple\n",
            "86 Banana\n",
            "87 Pineapple\n",
            "88 Pineapple\n",
            "89 Banana\n",
            "90 Pineapple\n",
            "91 Pineapple\n",
            "92 Banana\n",
            "93 Banana\n",
            "94 Pineapple\n",
            "95 Pineapple\n",
            "96 Pineapple\n",
            "97 Banana\n",
            "98 Pineapple\n",
            "99 Banana\n"
          ]
        }
      ]
    }
  ]
}